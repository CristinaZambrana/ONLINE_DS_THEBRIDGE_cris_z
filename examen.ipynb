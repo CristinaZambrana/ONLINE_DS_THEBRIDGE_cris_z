{
 "cells": [
  {
   "cell_type": "code",
   "execution_count": 7,
   "metadata": {},
   "outputs": [
    {
     "name": "stdout",
     "output_type": "stream",
     "text": [
      "ordenador\n",
      "Sara\n",
      "['movil', 'pulsera']\n",
      "yo, Cristina, te regalo esto ordenador a ti, Sara\n"
     ]
    }
   ],
   "source": [
    "nombre = \"Cristina\"\n",
    "apellidos = \"zambrana Palacios\"\n",
    "\n",
    "#EJERCICIO 1.1\n",
    "\n",
    "#Crear las variables \n",
    "edad = int(21)\n",
    "altura = float(1.55)\n",
    "pertenencias = [\"movil\", \"pulsera\", \"ordenador\", \"coche\"]\n",
    "valor = [100, 50, 400, 1500]\n",
    "personas_cercanas = (\"Sara\", \"Ricardo\", \"Arturo\")\n",
    "\n",
    "#Asignar a las variables\n",
    "regalo = pertenencias[2]\n",
    "print(regalo)\n",
    "para = personas_cercanas[0]\n",
    "print(para)\n",
    "\n",
    "#sub_lista\n",
    "preferidas = pertenencias[0:2]\n",
    "print(preferidas)\n",
    "\n",
    "#Entrega el regalo a para\n",
    "print(f\"yo, {nombre}, te regalo esto {regalo} a ti, {para}\")\n"
   ]
  },
  {
   "cell_type": "code",
   "execution_count": 42,
   "metadata": {},
   "outputs": [
    {
     "name": "stdout",
     "output_type": "stream",
     "text": [
      "[100, 50, 400, 1500]\n",
      "[50, 100, 400, 1500]\n",
      "[100, 50, 400, 1500, 50, 100, 400, 1500]\n"
     ]
    }
   ],
   "source": [
    "#EJERCICIO 1.2\n",
    "\n",
    "#Asignar a las variable\n",
    "valor = [100, 50, 400, 1500]\n",
    "print(valor)\n",
    "\n",
    "valores_ordenados = sorted(valor)\n",
    "print(valores_ordenados)\n",
    "\n",
    "cosas_ordenadas = [1500, 400, 100, 50]\n",
    "\n",
    "union_listas = valor + valores_ordenados\n",
    "print(union_listas)    "
   ]
  },
  {
   "cell_type": "code",
   "execution_count": 48,
   "metadata": {},
   "outputs": [
    {
     "name": "stdout",
     "output_type": "stream",
     "text": [
      "{'Etapa vida': '', 'Años': 30, 'Fiesta favorita': '', 'Motivo': ''}\n",
      "[]\n"
     ]
    }
   ],
   "source": [
    "#EJERCICIO 1.3\n",
    "\n",
    "#Creamos el diccionario \n",
    "\n",
    "diccionario = {\n",
    "    \"Etapa vida\" : \"\",\n",
    "    \"Años\" : int(30),\n",
    "    \"Fiesta favorita\" : \"\",\n",
    "    \"Motivo\" : \"\",\n",
    "}\n",
    "print(diccionario)\n",
    "\n",
    "#Creamos la lista vacia\n",
    "\n",
    "lista_fiestas = []\n",
    "print(lista_fiestas)"
   ]
  },
  {
   "cell_type": "code",
   "execution_count": 46,
   "metadata": {},
   "outputs": [
    {
     "name": "stdout",
     "output_type": "stream",
     "text": [
      "Bruce Springsteen\n",
      "Eva Amaral\n",
      "Brandon Flowers\n",
      "Kiley Minogue\n",
      "['Alejandro Sanz', 'Brandon Flowers', 'Bruce Springsteen', 'Eva Amaral', 'Kiley Minogue', 'Rosalia', 'Shakira']\n"
     ]
    }
   ],
   "source": [
    "#EJERCICIO 2.2\n",
    "\n",
    "#Creamos las listas\n",
    "cantantes = [\"Rosalia\",\"Alejandro Sanz\",\"Bruce Springsteen\",\"Eva Amaral\",\"Brandon Flowers\",\"Shakira\",\"Kiley Minogue\"]\n",
    "favoritos = [False, False, True, True, True, False, True]\n",
    "banda = [\"No\",\"No\", \"E Street Band\", \"Amaral\", \"The Killers\", \"No\", \"No\"]\n",
    "\n",
    "#Creamos la sublista de los cantantes favoritos\n",
    "\n",
    "for i in range(0, len(cantantes)):\n",
    "    if favoritos[i] == True:\n",
    "        print(cantantes[i])\n",
    "\n",
    "cantantes_orden = sorted(cantantes)\n",
    "print(cantantes_orden)\n"
   ]
  },
  {
   "cell_type": "code",
   "execution_count": 37,
   "metadata": {},
   "outputs": [
    {
     "name": "stdout",
     "output_type": "stream",
     "text": [
      "{'Acciona': 2.75, 'Sabadell': -1.46, 'ACS': -3.4, 'Jaime Co': -5.0, 'Grifols': -3.2, 'Naturgy': 1.56}\n",
      "Para Sabadell: Desinvierta en un poquito, pero no se pase\n",
      "Para ACS: Desinvierta en moderadamente\n",
      "Para Jaime Co: Desinvierta en fuertemente\n",
      "Para Grifols: Desinvierta en moderadamente\n",
      "Para Sabadell: Desinvierta en un poquito, pero no se pase\n",
      "Para ACS: Desinvierta en un poquito, pero no se pase\n",
      "Para Jaime Co: Desinvierta en moderadamente\n",
      "Para Grifols: Desinvierta en un poquito, pero no se pase\n",
      "Para Acciona: Desinvierta en fuertemente\n",
      "Para Sabadell: Desinvierta en fuertemente\n",
      "Para ACS: Desinvierta en fuertemente\n",
      "Para Jaime Co: Desinvierta en fuertemente\n",
      "Para Grifols: Desinvierta en fuertemente\n",
      "Para Naturgy: Desinvierta en fuertemente\n",
      "Para Sabadell: Desinvierta en moderadamente\n",
      "Para ACS: Desinvierta en moderadamente\n",
      "Para Jaime Co: Desinvierta en fuertemente\n",
      "Para Grifols: Desinvierta en moderadamente\n"
     ]
    }
   ],
   "source": [
    "#EJERCICIO 3\n",
    "\n",
    "#Creamos el diccionario {clave : valor}\n",
    "\n",
    "estimaciones_bursatiles = {\n",
    "    \"Acciona\" : float(2.75),\n",
    "    \"Sabadell\" : float(-1.46), \n",
    "    \"ACS\" : float(-3.4), \n",
    "    \"Jaime Co\" : float(-5), \n",
    "    \"Grifols\" : float(-3.2), \n",
    "    \"Naturgy\" : float(1.56),\n",
    "}\n",
    "print(estimaciones_bursatiles)\n",
    "\n",
    "\n",
    "\n",
    "#Creamos el programa que recorre el diccionario \n",
    "\n",
    "def recorre_diccionario(estimacion):\n",
    "    for clave, valor in estimacion.items():\n",
    "        if valor <= -5:\n",
    "            print(f\"Para {clave}: Desinvierta en fuertemente\")\n",
    "        if valor <= -3 and valor > -5:\n",
    "            print(f\"Para {clave}: Desinvierta en moderadamente\")\n",
    "        if valor > -3 and valor <= 0:\n",
    "            print(f\"Para {clave}: Desinvierta en un poquito, pero no se pase\")\n",
    "\n",
    "recorre_diccionario(estimaciones_bursatiles)\n",
    "\n",
    "#Creamos el programa consejos de inversion\n",
    "\n",
    "def consejos_de_inversion(estimacion, umbFuerte, umbModerado):\n",
    "    for clave, valor in estimacion.items():\n",
    "        if valor <= umbFuerte:\n",
    "            print(f\"Para {clave}: Desinvierta en fuertemente\")\n",
    "        if valor <= umbModerado and valor > umbFuerte:\n",
    "            print(f\"Para {clave}: Desinvierta en moderadamente\")\n",
    "        if valor > umbModerado and valor <= 0:\n",
    "            print(f\"Para {clave}: Desinvierta en un poquito, pero no se pase\")\n",
    "\n",
    "consejos_de_inversion(estimaciones_bursatiles, -6, -4) \n",
    "\n",
    "#Probando con los valores de umbral_fuerte a 6 y umbral_moderado a 2.5\n",
    "\n",
    "consejos_de_inversion(estimaciones_bursatiles, 6, 2.5) \n",
    "\n",
    "#Nueva estimación\n",
    "\n",
    "nueva_estiamacion = [(\"TheBridge\",3.35),(\"Bankia\",-3.3),(\"OpenAI\",9.3),(\"ATT\",-1.15),(\"Vodafone\",-11.15)]\n",
    "n_estimacion = list(nueva_estiamacion)\n",
    "ultima_estimacion = {indice: valor for indice, valor in enumerate(n_estimacion)}\n",
    "\n",
    "consejos_de_inversion(estimaciones_bursatiles, -4.5, -1.25)"
   ]
  },
  {
   "cell_type": "code",
   "execution_count": null,
   "metadata": {},
   "outputs": [],
   "source": []
  }
 ],
 "metadata": {
  "kernelspec": {
   "display_name": "Python 3",
   "language": "python",
   "name": "python3"
  },
  "language_info": {
   "codemirror_mode": {
    "name": "ipython",
    "version": 3
   },
   "file_extension": ".py",
   "mimetype": "text/x-python",
   "name": "python",
   "nbconvert_exporter": "python",
   "pygments_lexer": "ipython3",
   "version": "3.12.0"
  }
 },
 "nbformat": 4,
 "nbformat_minor": 2
}
