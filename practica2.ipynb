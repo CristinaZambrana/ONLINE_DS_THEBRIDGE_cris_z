{
 "cells": [
  {
   "cell_type": "code",
   "execution_count": 9,
   "metadata": {},
   "outputs": [
    {
     "name": "stdout",
     "output_type": "stream",
     "text": [
      "[1, 2, 3, 4, 5]\n",
      "[1, 4, 9, 16, 25]\n"
     ]
    }
   ],
   "source": [
    "#Ejercicio 1\n",
    "\n",
    "ejer_2 = [1,2,3,4,5]\n",
    "print(ejer_2)\n",
    "\n",
    "for i in range(0,len(ejer_2)):\n",
    "\tejer_2[i]=ejer_2[i]*ejer_2[i]\n",
    "\n",
    "print(ejer_2)"
   ]
  },
  {
   "cell_type": "code",
   "execution_count": 26,
   "metadata": {},
   "outputs": [
    {
     "name": "stdout",
     "output_type": "stream",
     "text": [
      "Indices de elementos duplicados: [7]\n"
     ]
    }
   ],
   "source": [
    "#Ejercicio 2\n",
    "\n",
    "ejer_3 = [\"Un\", \"árbol\", \"binario\", \"es\", \"una\", \"estructura\", \"de\", \"un\", \"tipo\", \"particular\", \"a\", \"veces\", \"no\", \"es\", \"ni\", \"binario\"]\n",
    "duplicado = \"un\" #Sustituir por \"es\" y con \"binario\"\n",
    "res_indices = []\n",
    "\n",
    "for i in range(0, len(ejer_3)):\n",
    "  if duplicado == ejer_3[i]:\n",
    "    res_indices.append(i)\n",
    "print(f\"Indices de elementos duplicados: {res_indices}\")\n"
   ]
  },
  {
   "cell_type": "code",
   "execution_count": 15,
   "metadata": {},
   "outputs": [
    {
     "name": "stdout",
     "output_type": "stream",
     "text": [
      "En la siguiente tupla el numero 3 se repite: 7\n",
      "(3, 29, 45, 67, 78, 90)\n",
      "Hay 26 elementos en la tupla\n"
     ]
    }
   ],
   "source": [
    "#Ejercicio 3\n",
    "\n",
    "ejer_9 = (3, 20, 3, 47, 19, 3, 29, 45, 67, 78, 90, 3, 3, 5, 2, 4, 7, 9, 4, 2, 4, 3, 3, 4, 6, 7)\n",
    "repeticion = 0\n",
    "for i in range(0,len(ejer_9)):\n",
    "  if 3 == ejer_9[i]:\n",
    "    repeticion += 1\n",
    "print(f\"En la siguiente tupla el numero 3 se repite: {repeticion}\")\n",
    "\n",
    "tupla = ejer_9[5:11]\n",
    "print(tupla)\n",
    "\n",
    "element = 0\n",
    "for i in range(0,len(ejer_9)):\n",
    "  element += 1\n",
    "print(f\"Hay {element} elementos en la tupla\")"
   ]
  },
  {
   "cell_type": "code",
   "execution_count": 16,
   "metadata": {},
   "outputs": [
    {
     "name": "stdout",
     "output_type": "stream",
     "text": [
      "El numero 60 no esta en la tupla\n"
     ]
    }
   ],
   "source": [
    "#Ejercicio 4\n",
    "\n",
    "estaSesenta = 0\n",
    "for i in range(0,len(ejer_9)):\n",
    "  if 60 == ejer_9[i]:\n",
    "    estaSesenta = 1\n",
    "\n",
    "if estaSesenta:\n",
    "  print(f\"El numero 60 si esta en la tupla\")\n",
    "else:\n",
    "  print(f\"El numero 60 no esta en la tupla\")"
   ]
  },
  {
   "cell_type": "code",
   "execution_count": 20,
   "metadata": {},
   "outputs": [
    {
     "name": "stdout",
     "output_type": "stream",
     "text": [
      "[3, 20, 3, 47, 19, 3, 29, 45, 67, 78, 90, 3, 3, 5, 2, 4, 7, 9, 4, 2, 4, 3, 3, 4, 6, 7]\n",
      "{2, 3, 67, 5, 4, 7, 6, 9, 45, 78, 47, 19, 20, 90, 29}\n",
      "{0: 3, 1: 20, 2: 3, 3: 47, 4: 19, 5: 3, 6: 29, 7: 45, 8: 67, 9: 78, 10: 90, 11: 3, 12: 3, 13: 5, 14: 2, 15: 4, 16: 7, 17: 9, 18: 4, 19: 2, 20: 4, 21: 3, 22: 3, 23: 4, 24: 6, 25: 7}\n"
     ]
    }
   ],
   "source": [
    "#Ejercicio 5\n",
    "\n",
    "lista = list(ejer_9)\n",
    "print(lista)\n",
    "\n",
    "conjunto = set(ejer_9)\n",
    "print(conjunto)\n",
    "\n",
    "diccionario = {indice: valor for indice, valor in enumerate(ejer_9)}\n",
    "print(diccionario)"
   ]
  },
  {
   "cell_type": "code",
   "execution_count": 21,
   "metadata": {},
   "outputs": [
    {
     "name": "stdout",
     "output_type": "stream",
     "text": [
      "{1: 22, 2: 44, 3: 66, 4: 88, 5: 110}\n"
     ]
    }
   ],
   "source": [
    "#Ejercicio 6\n",
    "\n",
    "ejer_6 = {1: 11, 2: 22, 3: 33, 4: 44, 5: 55}\n",
    "\n",
    "for clave in ejer_6:\n",
    "    ejer_6[clave] *= 2\n",
    "\n",
    "print(ejer_6)"
   ]
  },
  {
   "cell_type": "code",
   "execution_count": 44,
   "metadata": {},
   "outputs": [
    {
     "name": "stdout",
     "output_type": "stream",
     "text": [
      "[{'titulo': 'Cien años de soledad', 'autor': 'Gabriel García Márquez', 'idioma original': 'Español', 'año de publicación': 1967}, {'titulo': '1984', 'autor': 'George Orwell', 'idioma original': 'Inglés', 'año de publicación': 1949}, {'titulo': 'Harry Potter y la piedra filosofal', 'autor': 'J.K. Rowling', 'idioma original': 'Inglés', 'año de publicación': 1997}, {'titulo': 'El Señor de los Anillos: La Comunidad del Anillo', 'autor': 'J.R.R. Tolkien', 'idioma original': 'Inglés', 'año de publicación': 1954}]\n",
      "[{'titulo': 'Cien años de soledad', 'autor': 'Gabriel García Márquez', 'idioma original': 'esperanto', 'año de publicación': 1967}, {'titulo': '1984', 'autor': 'George Orwell', 'idioma original': 'esperanto', 'año de publicación': 1949}, {'titulo': 'Harry Potter y la piedra filosofal', 'autor': 'J.K. Rowling', 'idioma original': 'esperanto', 'año de publicación': 1997}, {'titulo': 'El Señor de los Anillos: La Comunidad del Anillo', 'autor': 'J.R.R. Tolkien', 'idioma original': 'esperanto', 'año de publicación': 1954}]\n"
     ]
    }
   ],
   "source": [
    "#Ejercicio 7\n",
    "\n",
    "libro_1 = {\n",
    "    \"titulo\": \"Cien años de soledad\",\n",
    "    \"autor\": \"Gabriel García Márquez\",\n",
    "    \"idioma original\": \"Español\",\n",
    "    \"año de publicación\": 1967\n",
    "}\n",
    "\n",
    "libro_2 = {\n",
    "    \"titulo\": \"1984\",\n",
    "    \"autor\": \"George Orwell\",\n",
    "    \"idioma original\": \"Inglés\",\n",
    "    \"año de publicación\": 1949\n",
    "}\n",
    "libro_3 = {\n",
    "    \"titulo\": \"Harry Potter y la piedra filosofal\",\n",
    "    \"autor\": \"J.K. Rowling\",\n",
    "    \"idioma original\": \"Inglés\",\n",
    "    \"año de publicación\": 1997\n",
    "}\n",
    "\n",
    "libro_4 = {\n",
    "    \"titulo\": \"El Señor de los Anillos: La Comunidad del Anillo\",\n",
    "    \"autor\": \"J.R.R. Tolkien\",\n",
    "    \"idioma original\": \"Inglés\",\n",
    "    \"año de publicación\": 1954\n",
    "}\n",
    "\n",
    "libreria = [libro_1, libro_2, libro_3, libro_4]\n",
    "print(libreria)\n",
    "\n",
    "#Ejercicio 8\n",
    "\n",
    "for libro in libreria:\n",
    "    libro[\"idioma original\"] = \"esperanto\"\n",
    "print(libreria)\n",
    "\n",
    "#Ejercicio 9\n",
    "\n",
    "#titulo = input(\"Busque un libro:\")\n",
    "       "
   ]
  },
  {
   "cell_type": "code",
   "execution_count": 27,
   "metadata": {},
   "outputs": [
    {
     "name": "stdout",
     "output_type": "stream",
     "text": [
      "Indices de elementos duplicados: [7]\n"
     ]
    }
   ],
   "source": [
    "#Ejercicio 10\n",
    "\n",
    "def encontrar_indices_de_valor(lista, valor):\n",
    "    res_indices = []\n",
    "\n",
    "    for i in range(0, len(lista)):\n",
    "        if valor == lista[i]:\n",
    "            res_indices.append(i)\n",
    "\n",
    "    return res_indices\n",
    "\n",
    "ejer_3 = [\"Un\", \"árbol\", \"binario\", \"es\", \"una\", \"estructura\", \"de\", \"un\", \"tipo\", \"particular\", \"a\", \"veces\", \"no\", \"es\", \"ni\", \"binario\"]\n",
    "duplicado = \"un\"\n",
    "\n",
    "res_indices = encontrar_indices_de_valor(ejer_3, duplicado)\n",
    "\n",
    "print(f\"Indices de elementos duplicados: {res_indices}\")"
   ]
  },
  {
   "cell_type": "code",
   "execution_count": null,
   "metadata": {},
   "outputs": [],
   "source": [
    "#Ejercicio 11\n",
    "\n"
   ]
  },
  {
   "cell_type": "code",
   "execution_count": 29,
   "metadata": {},
   "outputs": [
    {
     "name": "stdout",
     "output_type": "stream",
     "text": [
      "Válida.\n"
     ]
    }
   ],
   "source": [
    "#Ejercicio 12\n",
    "\n",
    "def es_direccion_valida(email):\n",
    "    if \"@\" in email:\n",
    "        return True\n",
    "    else:\n",
    "        return False\n",
    "\n",
    "direccion_email = input(\"Ingresa tu correo electrónico: \")\n",
    "\n",
    "if es_direccion_valida(direccion_email):\n",
    "    print(\"Válida.\")\n",
    "else:\n",
    "    print(\"No es válida.\")"
   ]
  },
  {
   "cell_type": "code",
   "execution_count": 37,
   "metadata": {},
   "outputs": [
    {
     "name": "stdout",
     "output_type": "stream",
     "text": [
      "DNI no válido.\n"
     ]
    }
   ],
   "source": [
    "#Ejercicio 13\n",
    "\n",
    "dni = input(\"Ingresa tu DNI: \")\n",
    "\n",
    "def DNI_valido(DNI):\n",
    "    if 7 <= len(DNI) <= 8 and DNI.isdigit():  \n",
    "        dni_num = int(DNI)  \n",
    "        letra = 'TRWAGMYFPDXBNJZSQVHLCKE'\n",
    "        letra_calculada = letra[dni_num % 23] \n",
    "        if letra_calculada == DNI[-1].upper():\n",
    "            return True\n",
    "    return False\n",
    "\n",
    "if DNI_valido(dni):\n",
    "    print(\"DNI válido.\")\n",
    "else:\n",
    "    print(\"DNI no válido.\")"
   ]
  }
 ],
 "metadata": {
  "kernelspec": {
   "display_name": "Python 3",
   "language": "python",
   "name": "python3"
  },
  "language_info": {
   "codemirror_mode": {
    "name": "ipython",
    "version": 3
   },
   "file_extension": ".py",
   "mimetype": "text/x-python",
   "name": "python",
   "nbconvert_exporter": "python",
   "pygments_lexer": "ipython3",
   "version": "3.12.0"
  }
 },
 "nbformat": 4,
 "nbformat_minor": 2
}
