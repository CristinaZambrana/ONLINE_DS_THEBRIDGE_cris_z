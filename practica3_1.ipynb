{
 "cells": [
  {
   "cell_type": "code",
   "execution_count": 2,
   "metadata": {},
   "outputs": [
    {
     "name": "stdout",
     "output_type": "stream",
     "text": [
      "Rafa deberá ir a tienda Starbucks\n",
      "Nacho deberá ir a tienda Manolo\n",
      "Clara deberá ir a tienda Starbucks\n"
     ]
    }
   ],
   "source": [
    "#PARTE I\n",
    "import numpy as np\n",
    "\n",
    "# Creamos de cada tienda una función utilizando un array\n",
    "\n",
    "def tienda_manolo(valores):\n",
    "    dinero = np.array([1.5, 2, 5, 16])\n",
    "    return np.dot(valores, dinero)  #multiplicacion \n",
    "\n",
    "def tienda_starbucks(valores):\n",
    "    dinero = np.array([1, 2.5, 4.5, 17])\n",
    "    return np.dot(valores, dinero)\n",
    "\n",
    "# Cantidad que cada persona compra (valores)\n",
    "rafa = np.array([6, 5, 3, 1])\n",
    "nacho = np.array([3, 6, 2, 2])\n",
    "clara = np.array([3, 4, 3, 1])\n",
    "\n",
    "#Diccionario de las personas y cantidades\n",
    "personas = {\"Rafa\": rafa, \"Nacho\": nacho, \"Clara\": clara}  # Diccionario de las tres personas juntas con sus valores\n",
    "\n",
    "recomendaciones = {}  # Diccionario vacío donde se guardará cada recomendación\n",
    "\n",
    "# Comparamos para cada persona la mejor tienda\n",
    "for nombre, valores in personas.items():\n",
    "    valor_manolo = tienda_manolo(valores)\n",
    "    valor_starbucks = tienda_starbucks(valores)\n",
    "\n",
    "    if valor_manolo < valor_starbucks:\n",
    "        recomendacion = \"tienda Manolo\"\n",
    "    else:\n",
    "        recomendacion = \"tienda Starbucks\"\n",
    "\n",
    "    recomendaciones[nombre] = recomendacion  # Ahora se ha guardado para cada nombre una recomendación\n",
    "\n",
    "for nombre, recomendacion in recomendaciones.items():\n",
    "    print(f\"{nombre} deberá ir a {recomendacion}\")"
   ]
  },
  {
   "cell_type": "code",
   "execution_count": 30,
   "metadata": {},
   "outputs": [
    {
     "name": "stdout",
     "output_type": "stream",
     "text": [
      "[['Toy Story' list(['Aventura', 'Animacion', 'Comedia'])]\n",
      " ['Jumanji' list(['Aventura'])]\n",
      " ['Mortal Kombat' list(['Accion', 'Aventura'])]\n",
      " ['Pocahontas' list(['Animacion', 'Romance'])]]\n",
      "Tipo de datos: object\n",
      "Dimensiones: 2\n",
      "Forma: (4, 2)\n",
      "Tamaño: 8\n"
     ]
    }
   ],
   "source": [
    "#PARTE II\n",
    "import numpy as np\n",
    "\n",
    "#Creamos de cada pelicula un vector, luego lo unimos en un diccionario\n",
    "\n",
    "toy_story = [\"Aventura\", \"Animacion\", \"Comedia\"]\n",
    "jumanji = [\"Aventura\"]\n",
    "mortal_kombat = [\"Accion\", \"Aventura\"]\n",
    "pocahontas = [\"Animacion\", \"Romance\"]\n",
    "\n",
    "peliculas_generos = {\"Toy Story\": toy_story, \"Jumanji\": jumanji, \"Mortal Kombat\": mortal_kombat, \"Pocahontas\": pocahontas}\n",
    "\n",
    "#Creamos una matriz de películas\n",
    "matriz_peliculas = np.array(list(peliculas_generos.items()), dtype=object) #Para poder tener diferentes tipos de elementos\n",
    "print(matriz_peliculas)\n",
    "\n",
    "print(\"Tipo de datos:\", matriz_peliculas.dtype)\n",
    "print(\"Dimensiones:\", matriz_peliculas.ndim)\n",
    "print(\"Forma:\", matriz_peliculas.shape)\n",
    "print(\"Tamaño:\", matriz_peliculas.size)\n",
    "\n",
    "#Programa que calcula la similitud entre cada pelicula\n",
    "nombres_peliculas = [toy_story, jumanji, mortal_kombat, pocahontas]\n",
    "diccionario_reparto = {}\n"
   ]
  },
  {
   "cell_type": "code",
   "execution_count": null,
   "metadata": {},
   "outputs": [],
   "source": []
  },
  {
   "cell_type": "code",
   "execution_count": null,
   "metadata": {},
   "outputs": [],
   "source": []
  }
 ],
 "metadata": {
  "kernelspec": {
   "display_name": "Python 3",
   "language": "python",
   "name": "python3"
  },
  "language_info": {
   "codemirror_mode": {
    "name": "ipython",
    "version": 3
   },
   "file_extension": ".py",
   "mimetype": "text/x-python",
   "name": "python",
   "nbconvert_exporter": "python",
   "pygments_lexer": "ipython3",
   "version": "3.12.0"
  }
 },
 "nbformat": 4,
 "nbformat_minor": 2
}
