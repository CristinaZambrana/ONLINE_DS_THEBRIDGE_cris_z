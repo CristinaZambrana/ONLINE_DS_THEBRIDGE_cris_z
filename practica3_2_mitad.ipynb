{
 "cells": [
  {
   "cell_type": "code",
   "execution_count": 4,
   "metadata": {},
   "outputs": [
    {
     "ename": "SyntaxError",
     "evalue": "invalid syntax. Perhaps you forgot a comma? (1986896825.py, line 54)",
     "output_type": "error",
     "traceback": [
      "\u001b[1;36m  Cell \u001b[1;32mIn[4], line 54\u001b[1;36m\u001b[0m\n\u001b[1;33m    print(f\"Clase asignada: {curso_asignado[]}\")\u001b[0m\n\u001b[1;37m                             ^\u001b[0m\n\u001b[1;31mSyntaxError\u001b[0m\u001b[1;31m:\u001b[0m invalid syntax. Perhaps you forgot a comma?\n"
     ]
    }
   ],
   "source": [
    "#PARTE I\n",
    "\n",
    "import numpy as np\n",
    "\n",
    "#Creamos un array y añadimos a Teresa y Udo\n",
    "\n",
    "alumnos_aidone = [[5, 4],\n",
    " [2, -3],\n",
    " [3, 5],\n",
    " [-5, 4],\n",
    " [0, -1],\n",
    " [3, 2],\n",
    " [-1, 1],\n",
    " [5, -2],\n",
    " [-5, 3],\n",
    " [-5, 1]]\n",
    "\n",
    "teresa = [[-2, -5]]\n",
    "udo = [[0, 4]]\n",
    "\n",
    "alumnos_array = np.array(alumnos_aidone)\n",
    "#Primera forma \n",
    "\n",
    "alumnos_array = np.concatenate((alumnos_array, teresa, udo), axis=0)\n",
    "print(alumnos_array)\n",
    "\n",
    "#Segunda forma\n",
    "alumnos_array = np.vstack((alumnos_array, teresa, udo))\n",
    "print(alumnos_array)\n",
    "\n",
    "#Apartado 2\n",
    "\n",
    "alumnos_ref = [\"Rodrigo\", \"Gabriela\", \"Mateo\"]\n",
    "lista_alumnos = ['Rodrigo', 'Lucia', 'Alejandro', 'Valeria', 'Javier', 'Camila', 'Diego', 'Gabriela', 'Mateo', 'Sofía', 'Teresa', 'Udo']\n",
    "curso_asignado = [\"CAI\", \"ER\", \"NMPC\"]\n",
    "\n",
    "#Matriz de 12x3 inicializada con 0\n",
    "matriz_reparto = np.zeros((len(lista_alumnos), len(curso_asignado)))\n",
    "\n",
    "num_alumnos = len(lista_alumnos)\n",
    "\n",
    "for i_vector in range(num_alumnos):\n",
    "    alumno = lista_alumnos[i_vector]\n",
    "\n",
    "    #Obtenemos el indice del alumno en la lista\n",
    "    indice_alumno = np.where(np.array(lista_alumnos) == alumno)[0][0]\n",
    "\n",
    "    vector_alumno = alumnos_array[indice_alumno]\n",
    "\n",
    "#Actualizamos la matriz inicializada en zeros\n",
    "matriz_reparto[i_vector, :] = np.zeros(len(curso_asignado))\n",
    "\n",
    "\n",
    "print(f\"Clase asignada: {curso_asignado[]}\")\n"
   ]
  },
  {
   "cell_type": "code",
   "execution_count": null,
   "metadata": {},
   "outputs": [],
   "source": []
  }
 ],
 "metadata": {
  "kernelspec": {
   "display_name": "Python 3",
   "language": "python",
   "name": "python3"
  },
  "language_info": {
   "codemirror_mode": {
    "name": "ipython",
    "version": 3
   },
   "file_extension": ".py",
   "mimetype": "text/x-python",
   "name": "python",
   "nbconvert_exporter": "python",
   "pygments_lexer": "ipython3",
   "version": "3.12.0"
  }
 },
 "nbformat": 4,
 "nbformat_minor": 2
}
